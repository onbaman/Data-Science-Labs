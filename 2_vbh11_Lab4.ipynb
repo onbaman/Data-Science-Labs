{
 "cells": [
  {
   "cell_type": "markdown",
   "metadata": {},
   "source": [
    "<div class=\"alert alert-block alert-info\">\n",
    "<h3>Student Information</h3> Please provide information about yourself.<br>\n",
    "<b>Name</b>: Vinh Huynh<br>\n",
    "<b>NetID</b>: vbh11<br>\n",
    "<b>Recitation (01/02)</b>: 02<br>\n",
    "<b>Notes to Grader</b> (optional):<br>\n",
    "<br><br>\n",
    "<b>IMPORTANT</b>\n",
    "Your work will not be graded withour your initials below<br>\n",
    "I certify that this lab represents my own work and I have read the RU academic intergrity policies at<br>\n",
    "<a href=\"https://www.cs.rutgers.edu/academic-integrity/introduction\">https://www.cs.rutgers.edu/academic-integrity/introduction </a><br>\n",
    "<b>Your Initials</b>: vbh11\n",
    "\n",
    "\n",
    "<h3>Grader Notes</h3>\n",
    "<b>Your Grade<b>:<br>\n",
    "<b>Grader Initials</b>:<br>\n",
    "<b>Grader Comments</b> (optional):<br>\n",
    "</div>"
   ]
  },
  {
   "cell_type": "markdown",
   "metadata": {},
   "source": [
    "### CS 439 - Introduction to Data Science\n",
    "### Spring 2019\n",
    "\n",
    "# Lab 4: Kernel Density Estimators\n",
    "\n",
    "#### Due Date : Sunday February 24th on or before 11:59 PM ####\n",
    "\n",
    "## Objective\n",
    "\n",
    "In this lab you will get some practice in plotting, applying data transformations, and working with kernel density estimators.  We will be working with data from the World Bank containing various statistics for countries and territories around the world.  \n",
    "\n",
    "### Instructions\n",
    "This lab is presented as a notebook. Please execute the cells that are already completed and your task is to fill in the code\n",
    "between ### BEGIN SOLUTION ### and ### END SOLUTION ###. We encourage you not to add any cells to this notebook. This helps us standardize our grading process. Thank you for complying with this request.\n",
    "\n",
    "\n",
    "### Collaboration Policy\n",
    "\n",
    "Data science is a collaborative activity. While you may talk with others about the labs, we ask that you **write your solutions individually**. \n",
    "\n"
   ]
  },
  {
   "cell_type": "code",
   "execution_count": 24,
   "metadata": {
    "_cell_guid": "33c63379-d85b-4638-8183-d008fdb96de7",
    "_uuid": "7ad7f9f24df7dba8ac92d234890835f6b9970834",
    "nbgrader": {
     "grade": false,
     "grade_id": "imports",
     "locked": true,
     "schema_version": 2,
     "solution": false
    }
   },
   "outputs": [],
   "source": [
    "import pandas as pd\n",
    "import numpy as np\n",
    "import seaborn as sns\n",
    "import matplotlib.pyplot as plt\n",
    "import zipfile\n",
    "\n",
    "plt.style.use('fivethirtyeight') # Use plt.style.available to see more styles\n",
    "sns.set()\n",
    "sns.set_context(\"talk\")\n",
    "%matplotlib inline"
   ]
  },
  {
   "cell_type": "markdown",
   "metadata": {
    "nbgrader": {
     "grade": false,
     "grade_id": "q0",
     "locked": true,
     "schema_version": 2,
     "solution": false
    }
   },
   "source": [
    "## Load Data"
   ]
  },
  {
   "cell_type": "markdown",
   "metadata": {
    "nbgrader": {
     "grade": false,
     "grade_id": "download-info-2",
     "locked": true,
     "schema_version": 2,
     "solution": false
    }
   },
   "source": [
    "Now, let us load some World Bank data into a pandas.DataFrame object named ```wb```."
   ]
  },
  {
   "cell_type": "code",
   "execution_count": 25,
   "metadata": {
    "nbgrader": {
     "grade": false,
     "grade_id": "data",
     "locked": true,
     "schema_version": 2,
     "solution": false
    }
   },
   "outputs": [
    {
     "data": {
      "text/html": [
       "<div>\n",
       "<style scoped>\n",
       "    .dataframe tbody tr th:only-of-type {\n",
       "        vertical-align: middle;\n",
       "    }\n",
       "\n",
       "    .dataframe tbody tr th {\n",
       "        vertical-align: top;\n",
       "    }\n",
       "\n",
       "    .dataframe thead th {\n",
       "        text-align: right;\n",
       "    }\n",
       "</style>\n",
       "<table border=\"1\" class=\"dataframe\">\n",
       "  <thead>\n",
       "    <tr style=\"text-align: right;\">\n",
       "      <th></th>\n",
       "      <th>Primary completion rate: Male: % of relevant age group: 2015</th>\n",
       "      <th>Primary completion rate: Female: % of relevant age group: 2015</th>\n",
       "      <th>Lower secondary completion rate: Male: % of relevant age group: 2015</th>\n",
       "      <th>Lower secondary completion rate: Female: % of relevant age group: 2015</th>\n",
       "      <th>Youth literacy rate: Male: % of ages 15-24: 2005-14</th>\n",
       "      <th>Youth literacy rate: Female: % of ages 15-24: 2005-14</th>\n",
       "      <th>Adult literacy rate: Male: % ages 15 and older: 2005-14</th>\n",
       "      <th>Adult literacy rate: Female: % ages 15 and older: 2005-14</th>\n",
       "      <th>Students at lowest proficiency on PISA: Mathematics: % of 15 year-olds: 2015</th>\n",
       "      <th>Students at lowest proficiency on PISA: Reading: % of 15 year-olds: 2015</th>\n",
       "      <th>...</th>\n",
       "      <th>Access to improved sanitation facilities: % of population: 1990</th>\n",
       "      <th>Access to improved sanitation facilities: % of population: 2015</th>\n",
       "      <th>Child immunization rate: Measles: % of children ages 12-23 months: 2015</th>\n",
       "      <th>Child immunization rate: DTP3: % of children ages 12-23 months: 2015</th>\n",
       "      <th>Children with acute respiratory infection taken to health provider: % of children under age 5 with ARI: 2009-2016</th>\n",
       "      <th>Children with diarrhea who received oral rehydration and continuous feeding: % of children under age 5 with diarrhea: 2009-2016</th>\n",
       "      <th>Children sleeping under treated bed nets: % of children under age 5: 2009-2016</th>\n",
       "      <th>Children with fever receiving antimalarial drugs: % of children under age 5 with fever: 2009-2016</th>\n",
       "      <th>Tuberculosis: Treatment success rate: % of new cases: 2014</th>\n",
       "      <th>Tuberculosis: Cases detection rate: % of new estimated cases: 2015</th>\n",
       "    </tr>\n",
       "  </thead>\n",
       "  <tbody>\n",
       "    <tr>\n",
       "      <th>Afghanistan</th>\n",
       "      <td>NaN</td>\n",
       "      <td>NaN</td>\n",
       "      <td>NaN</td>\n",
       "      <td>NaN</td>\n",
       "      <td>62.0</td>\n",
       "      <td>32.0</td>\n",
       "      <td>45.0</td>\n",
       "      <td>18.0</td>\n",
       "      <td>NaN</td>\n",
       "      <td>NaN</td>\n",
       "      <td>...</td>\n",
       "      <td>21.0</td>\n",
       "      <td>32.0</td>\n",
       "      <td>68.0</td>\n",
       "      <td>78.0</td>\n",
       "      <td>62.0</td>\n",
       "      <td>41.0</td>\n",
       "      <td>4.6</td>\n",
       "      <td>11.8</td>\n",
       "      <td>87.0</td>\n",
       "      <td>58.0</td>\n",
       "    </tr>\n",
       "    <tr>\n",
       "      <th>Albania</th>\n",
       "      <td>108.0</td>\n",
       "      <td>105.0</td>\n",
       "      <td>97.0</td>\n",
       "      <td>97.0</td>\n",
       "      <td>99.0</td>\n",
       "      <td>99.0</td>\n",
       "      <td>98.0</td>\n",
       "      <td>96.0</td>\n",
       "      <td>26.0</td>\n",
       "      <td>7.0</td>\n",
       "      <td>...</td>\n",
       "      <td>78.0</td>\n",
       "      <td>93.0</td>\n",
       "      <td>98.0</td>\n",
       "      <td>98.0</td>\n",
       "      <td>70.0</td>\n",
       "      <td>63.0</td>\n",
       "      <td>NaN</td>\n",
       "      <td>NaN</td>\n",
       "      <td>88.0</td>\n",
       "      <td>76.0</td>\n",
       "    </tr>\n",
       "    <tr>\n",
       "      <th>Algeria</th>\n",
       "      <td>106.0</td>\n",
       "      <td>105.0</td>\n",
       "      <td>68.0</td>\n",
       "      <td>85.0</td>\n",
       "      <td>96.0</td>\n",
       "      <td>92.0</td>\n",
       "      <td>83.0</td>\n",
       "      <td>68.0</td>\n",
       "      <td>51.0</td>\n",
       "      <td>11.0</td>\n",
       "      <td>...</td>\n",
       "      <td>80.0</td>\n",
       "      <td>88.0</td>\n",
       "      <td>95.0</td>\n",
       "      <td>95.0</td>\n",
       "      <td>66.0</td>\n",
       "      <td>42.0</td>\n",
       "      <td>NaN</td>\n",
       "      <td>NaN</td>\n",
       "      <td>88.0</td>\n",
       "      <td>80.0</td>\n",
       "    </tr>\n",
       "    <tr>\n",
       "      <th>American Samoa</th>\n",
       "      <td>NaN</td>\n",
       "      <td>NaN</td>\n",
       "      <td>NaN</td>\n",
       "      <td>NaN</td>\n",
       "      <td>NaN</td>\n",
       "      <td>NaN</td>\n",
       "      <td>NaN</td>\n",
       "      <td>NaN</td>\n",
       "      <td>NaN</td>\n",
       "      <td>NaN</td>\n",
       "      <td>...</td>\n",
       "      <td>61.0</td>\n",
       "      <td>63.0</td>\n",
       "      <td>NaN</td>\n",
       "      <td>NaN</td>\n",
       "      <td>NaN</td>\n",
       "      <td>NaN</td>\n",
       "      <td>NaN</td>\n",
       "      <td>NaN</td>\n",
       "      <td>NaN</td>\n",
       "      <td>87.0</td>\n",
       "    </tr>\n",
       "    <tr>\n",
       "      <th>Andorra</th>\n",
       "      <td>NaN</td>\n",
       "      <td>NaN</td>\n",
       "      <td>NaN</td>\n",
       "      <td>NaN</td>\n",
       "      <td>NaN</td>\n",
       "      <td>NaN</td>\n",
       "      <td>NaN</td>\n",
       "      <td>NaN</td>\n",
       "      <td>NaN</td>\n",
       "      <td>NaN</td>\n",
       "      <td>...</td>\n",
       "      <td>100.0</td>\n",
       "      <td>100.0</td>\n",
       "      <td>96.0</td>\n",
       "      <td>97.0</td>\n",
       "      <td>NaN</td>\n",
       "      <td>NaN</td>\n",
       "      <td>NaN</td>\n",
       "      <td>NaN</td>\n",
       "      <td>83.0</td>\n",
       "      <td>87.0</td>\n",
       "    </tr>\n",
       "  </tbody>\n",
       "</table>\n",
       "<p>5 rows × 45 columns</p>\n",
       "</div>"
      ],
      "text/plain": [
       "                Primary completion rate: Male: % of relevant age group: 2015  \\\n",
       "Afghanistan                                                   NaN              \n",
       "Albania                                                     108.0              \n",
       "Algeria                                                     106.0              \n",
       "American Samoa                                                NaN              \n",
       "Andorra                                                       NaN              \n",
       "\n",
       "                Primary completion rate: Female: % of relevant age group: 2015  \\\n",
       "Afghanistan                                                   NaN                \n",
       "Albania                                                     105.0                \n",
       "Algeria                                                     105.0                \n",
       "American Samoa                                                NaN                \n",
       "Andorra                                                       NaN                \n",
       "\n",
       "                Lower secondary completion rate: Male: % of relevant age group: 2015  \\\n",
       "Afghanistan                                                   NaN                      \n",
       "Albania                                                      97.0                      \n",
       "Algeria                                                      68.0                      \n",
       "American Samoa                                                NaN                      \n",
       "Andorra                                                       NaN                      \n",
       "\n",
       "                Lower secondary completion rate: Female: % of relevant age group: 2015  \\\n",
       "Afghanistan                                                   NaN                        \n",
       "Albania                                                      97.0                        \n",
       "Algeria                                                      85.0                        \n",
       "American Samoa                                                NaN                        \n",
       "Andorra                                                       NaN                        \n",
       "\n",
       "                Youth literacy rate: Male: % of ages 15-24: 2005-14  \\\n",
       "Afghanistan                                                  62.0     \n",
       "Albania                                                      99.0     \n",
       "Algeria                                                      96.0     \n",
       "American Samoa                                                NaN     \n",
       "Andorra                                                       NaN     \n",
       "\n",
       "                Youth literacy rate: Female: % of ages 15-24: 2005-14  \\\n",
       "Afghanistan                                                  32.0       \n",
       "Albania                                                      99.0       \n",
       "Algeria                                                      92.0       \n",
       "American Samoa                                                NaN       \n",
       "Andorra                                                       NaN       \n",
       "\n",
       "                Adult literacy rate: Male: % ages 15 and older: 2005-14  \\\n",
       "Afghanistan                                                  45.0         \n",
       "Albania                                                      98.0         \n",
       "Algeria                                                      83.0         \n",
       "American Samoa                                                NaN         \n",
       "Andorra                                                       NaN         \n",
       "\n",
       "                Adult literacy rate: Female: % ages 15 and older: 2005-14  \\\n",
       "Afghanistan                                                  18.0           \n",
       "Albania                                                      96.0           \n",
       "Algeria                                                      68.0           \n",
       "American Samoa                                                NaN           \n",
       "Andorra                                                       NaN           \n",
       "\n",
       "                Students at lowest proficiency on PISA: Mathematics: % of 15 year-olds: 2015  \\\n",
       "Afghanistan                                                   NaN                              \n",
       "Albania                                                      26.0                              \n",
       "Algeria                                                      51.0                              \n",
       "American Samoa                                                NaN                              \n",
       "Andorra                                                       NaN                              \n",
       "\n",
       "                Students at lowest proficiency on PISA: Reading: % of 15 year-olds: 2015  \\\n",
       "Afghanistan                                                   NaN                          \n",
       "Albania                                                       7.0                          \n",
       "Algeria                                                      11.0                          \n",
       "American Samoa                                                NaN                          \n",
       "Andorra                                                       NaN                          \n",
       "\n",
       "                                               ...                                  \\\n",
       "Afghanistan                                    ...                                   \n",
       "Albania                                        ...                                   \n",
       "Algeria                                        ...                                   \n",
       "American Samoa                                 ...                                   \n",
       "Andorra                                        ...                                   \n",
       "\n",
       "                Access to improved sanitation facilities: % of population: 1990  \\\n",
       "Afghanistan                                                  21.0                 \n",
       "Albania                                                      78.0                 \n",
       "Algeria                                                      80.0                 \n",
       "American Samoa                                               61.0                 \n",
       "Andorra                                                     100.0                 \n",
       "\n",
       "                Access to improved sanitation facilities: % of population: 2015  \\\n",
       "Afghanistan                                                  32.0                 \n",
       "Albania                                                      93.0                 \n",
       "Algeria                                                      88.0                 \n",
       "American Samoa                                               63.0                 \n",
       "Andorra                                                     100.0                 \n",
       "\n",
       "                Child immunization rate: Measles: % of children ages 12-23 months: 2015  \\\n",
       "Afghanistan                                                  68.0                         \n",
       "Albania                                                      98.0                         \n",
       "Algeria                                                      95.0                         \n",
       "American Samoa                                                NaN                         \n",
       "Andorra                                                      96.0                         \n",
       "\n",
       "                Child immunization rate: DTP3: % of children ages 12-23 months: 2015  \\\n",
       "Afghanistan                                                  78.0                      \n",
       "Albania                                                      98.0                      \n",
       "Algeria                                                      95.0                      \n",
       "American Samoa                                                NaN                      \n",
       "Andorra                                                      97.0                      \n",
       "\n",
       "                Children with acute respiratory infection taken to health provider: % of children under age 5 with ARI: 2009-2016  \\\n",
       "Afghanistan                                                  62.0                                                                   \n",
       "Albania                                                      70.0                                                                   \n",
       "Algeria                                                      66.0                                                                   \n",
       "American Samoa                                                NaN                                                                   \n",
       "Andorra                                                       NaN                                                                   \n",
       "\n",
       "                Children with diarrhea who received oral rehydration and continuous feeding: % of children under age 5 with diarrhea: 2009-2016  \\\n",
       "Afghanistan                                                  41.0                                                                                 \n",
       "Albania                                                      63.0                                                                                 \n",
       "Algeria                                                      42.0                                                                                 \n",
       "American Samoa                                                NaN                                                                                 \n",
       "Andorra                                                       NaN                                                                                 \n",
       "\n",
       "                Children sleeping under treated bed nets: % of children under age 5: 2009-2016  \\\n",
       "Afghanistan                                                   4.6                                \n",
       "Albania                                                       NaN                                \n",
       "Algeria                                                       NaN                                \n",
       "American Samoa                                                NaN                                \n",
       "Andorra                                                       NaN                                \n",
       "\n",
       "                Children with fever receiving antimalarial drugs: % of children under age 5 with fever: 2009-2016  \\\n",
       "Afghanistan                                                  11.8                                                   \n",
       "Albania                                                       NaN                                                   \n",
       "Algeria                                                       NaN                                                   \n",
       "American Samoa                                                NaN                                                   \n",
       "Andorra                                                       NaN                                                   \n",
       "\n",
       "                Tuberculosis: Treatment success rate: % of new cases: 2014  \\\n",
       "Afghanistan                                                  87.0            \n",
       "Albania                                                      88.0            \n",
       "Algeria                                                      88.0            \n",
       "American Samoa                                                NaN            \n",
       "Andorra                                                      83.0            \n",
       "\n",
       "                Tuberculosis: Cases detection rate: % of new estimated cases: 2015  \n",
       "Afghanistan                                                  58.0                   \n",
       "Albania                                                      76.0                   \n",
       "Algeria                                                      80.0                   \n",
       "American Samoa                                               87.0                   \n",
       "Andorra                                                      87.0                   \n",
       "\n",
       "[5 rows x 45 columns]"
      ]
     },
     "execution_count": 25,
     "metadata": {},
     "output_type": "execute_result"
    }
   ],
   "source": [
    "wb = pd.read_csv(\"data/world_bank_misc.csv\", index_col=0)\n",
    "wb.head()"
   ]
  },
  {
   "cell_type": "markdown",
   "metadata": {
    "nbgrader": {
     "grade": false,
     "grade_id": "explore-cols",
     "locked": true,
     "schema_version": 2,
     "solution": false
    }
   },
   "source": [
    "List the columns of the data frame with their descriptions"
   ]
  },
  {
   "cell_type": "code",
   "execution_count": 20,
   "metadata": {
    "nbgrader": {
     "grade": false,
     "grade_id": "explore-cols-code",
     "locked": true,
     "schema_version": 2,
     "solution": false
    },
    "scrolled": false
   },
   "outputs": [
    {
     "data": {
      "text/plain": [
       "['Primary completion rate: Male: % of relevant age group: 2015',\n",
       " 'Primary completion rate: Female: % of relevant age group: 2015',\n",
       " 'Lower secondary completion rate: Male: % of relevant age group: 2015',\n",
       " 'Lower secondary completion rate: Female: % of relevant age group: 2015',\n",
       " 'Youth literacy rate: Male: % of ages 15-24: 2005-14',\n",
       " 'Youth literacy rate: Female: % of ages 15-24: 2005-14',\n",
       " 'Adult literacy rate: Male: % ages 15 and older: 2005-14',\n",
       " 'Adult literacy rate: Female: % ages 15 and older: 2005-14',\n",
       " 'Students at lowest proficiency on PISA: Mathematics: % of 15 year-olds: 2015',\n",
       " 'Students at lowest proficiency on PISA: Reading: % of 15 year-olds: 2015',\n",
       " 'Students at lowest proficiency on PISA: Science: % of 15 year-olds: 2015',\n",
       " 'Population: millions: 2016',\n",
       " 'Surface area: sq. km thousands: 2016',\n",
       " 'Population density: people per sq. km: 2016',\n",
       " 'Gross national income, Atlas method: $ billions: 2016',\n",
       " 'Gross national income per capita, Atlas method: $: 2016',\n",
       " 'Purchasing power parity gross national income: $ billions: 2016',\n",
       " 'per capita: $: 2016',\n",
       " 'Gross domestic product: % growth : 2016',\n",
       " 'per capita: % growth: 2016',\n",
       " 'Prevalence of smoking: Male: % of adults: 2015',\n",
       " 'Prevalence of smoking: Female: % of adults: 2015',\n",
       " 'Incidence of tuberculosis: per 100,000 people: 2015',\n",
       " 'Prevalence of diabetes: % of population ages 20 to 79: 2015',\n",
       " 'Incidence of HIV: Total: % of uninfected population ages 15-49: 2015',\n",
       " 'Prevalence of HIV: Total: % of population ages 15-49: 2015',\n",
       " \"Prevalence of HIV: Women's share of population ages 15+ living with HIV: %: 2015\",\n",
       " 'Prevalence of HIV: Youth, Male: % of population ages 15-24: 2015',\n",
       " 'Prevalence of HIV: Youth, Female: % of population ages 15-24: 2015',\n",
       " 'Antiretroviral therapy coverage: % of people living with HIV: 2015',\n",
       " 'Cause of death: Communicable diseases and maternal, prenatal, and nutrition conditions: % of population: 2015',\n",
       " 'Cause of death: Non-communicable diseases: % of population: 2015',\n",
       " 'Cause of death: Injuries: % of population: 2015',\n",
       " 'Access to an improved water source: % of population: 1990',\n",
       " 'Access to an improved water source: % of population: 2015',\n",
       " 'Access to improved sanitation facilities: % of population: 1990',\n",
       " 'Access to improved sanitation facilities: % of population: 2015',\n",
       " 'Child immunization rate: Measles: % of children ages 12-23 months: 2015',\n",
       " 'Child immunization rate: DTP3: % of children ages 12-23 months: 2015',\n",
       " 'Children with acute respiratory infection taken to health provider: % of children under age 5 with ARI: 2009-2016',\n",
       " 'Children with diarrhea who received oral rehydration and continuous feeding: % of children under age 5 with diarrhea: 2009-2016',\n",
       " 'Children sleeping under treated bed nets: % of children under age 5: 2009-2016',\n",
       " 'Children with fever receiving antimalarial drugs: % of children under age 5 with fever: 2009-2016',\n",
       " 'Tuberculosis: Treatment success rate: % of new cases: 2014',\n",
       " 'Tuberculosis: Cases detection rate: % of new estimated cases: 2015']"
      ]
     },
     "execution_count": 20,
     "metadata": {},
     "output_type": "execute_result"
    }
   ],
   "source": [
    "## BEGIN SOLUTION\n",
    "list(wb)\n",
    "\n",
    "## END SOLUTION"
   ]
  },
  {
   "cell_type": "markdown",
   "metadata": {
    "nbgrader": {
     "grade": false,
     "grade_id": "part1",
     "locked": true,
     "schema_version": 2,
     "solution": false
    }
   },
   "source": [
    "# Part 1: Scaling\n",
    "\n",
    "## Question 1.1\n",
    "In the first part of this assignment we will look at the distribution of values for female adult literacy rate as well as the gross national income per capita. Create two series that contains data on literature and income "
   ]
  },
  {
   "cell_type": "code",
   "execution_count": 26,
   "metadata": {
    "nbgrader": {
     "grade": false,
     "grade_id": "q1-answer",
     "locked": true,
     "schema_version": 2,
     "solution": false
    },
    "scrolled": true,
    "tags": [
     "student"
    ]
   },
   "outputs": [
    {
     "name": "stdout",
     "output_type": "stream",
     "text": [
      "9720\n",
      "294\n"
     ]
    }
   ],
   "source": [
    "## BEGIN SOLUTION\n",
    "\n",
    "#create a new dataframe df with the index from wb\n",
    "df = pd.DataFrame(index=wb.index).dropna(axis='columns')\n",
    "\n",
    "#wb[\"Adult literacy rate: Female: % ages 15 and older: 2005-14\"]\n",
    "#wb[\"Gross national income per capita, Atlas method: $: 2016\"]\n",
    "\n",
    "#copies of the Series we want\n",
    "df['literacy'] = wb[\"Adult literacy rate: Female: % ages 15 and older: 2005-14\"]\n",
    "df['income'] = wb[\"Gross national income per capita, Atlas method: $: 2016\"]\n",
    "df = df.dropna()\n",
    "dfSize = df.size\n",
    "wbSize = wb.size\n",
    "print(str(wbSize) + \"\\n\" + str(dfSize))\n",
    "\n",
    "#the line below drops all records from df that have a NaN value in either column\n",
    "# compare the lenghts of wb and df\n",
    "\n",
    "## END SOLUTION"
   ]
  },
  {
   "cell_type": "code",
   "execution_count": 22,
   "metadata": {
    "nbgrader": {
     "grade": false,
     "grade_id": "cell-dcd091fc26fffb77",
     "locked": true,
     "schema_version": 2,
     "solution": false
    }
   },
   "outputs": [
    {
     "data": {
      "text/html": [
       "<div>\n",
       "<style scoped>\n",
       "    .dataframe tbody tr th:only-of-type {\n",
       "        vertical-align: middle;\n",
       "    }\n",
       "\n",
       "    .dataframe tbody tr th {\n",
       "        vertical-align: top;\n",
       "    }\n",
       "\n",
       "    .dataframe thead th {\n",
       "        text-align: right;\n",
       "    }\n",
       "</style>\n",
       "<table border=\"1\" class=\"dataframe\">\n",
       "  <thead>\n",
       "    <tr style=\"text-align: right;\">\n",
       "      <th></th>\n",
       "      <th>literacy</th>\n",
       "      <th>income</th>\n",
       "    </tr>\n",
       "  </thead>\n",
       "  <tbody>\n",
       "    <tr>\n",
       "      <th>Afghanistan</th>\n",
       "      <td>18.0</td>\n",
       "      <td>580.0</td>\n",
       "    </tr>\n",
       "    <tr>\n",
       "      <th>Albania</th>\n",
       "      <td>96.0</td>\n",
       "      <td>4250.0</td>\n",
       "    </tr>\n",
       "    <tr>\n",
       "      <th>Algeria</th>\n",
       "      <td>68.0</td>\n",
       "      <td>4270.0</td>\n",
       "    </tr>\n",
       "    <tr>\n",
       "      <th>Angola</th>\n",
       "      <td>60.0</td>\n",
       "      <td>3440.0</td>\n",
       "    </tr>\n",
       "    <tr>\n",
       "      <th>Antigua and Barbuda</th>\n",
       "      <td>99.0</td>\n",
       "      <td>13400.0</td>\n",
       "    </tr>\n",
       "  </tbody>\n",
       "</table>\n",
       "</div>"
      ],
      "text/plain": [
       "                     literacy   income\n",
       "Afghanistan              18.0    580.0\n",
       "Albania                  96.0   4250.0\n",
       "Algeria                  68.0   4270.0\n",
       "Angola                   60.0   3440.0\n",
       "Antigua and Barbuda      99.0  13400.0"
      ]
     },
     "execution_count": 22,
     "metadata": {},
     "output_type": "execute_result"
    }
   ],
   "source": [
    "# inspect the head of df\n",
    "df.head(5)"
   ]
  },
  {
   "cell_type": "markdown",
   "metadata": {
    "nbgrader": {
     "grade": false,
     "grade_id": "cell-15d94e63e4d461a0",
     "locked": true,
     "schema_version": 2,
     "solution": false
    }
   },
   "source": [
    "## Question 1.2"
   ]
  },
  {
   "cell_type": "markdown",
   "metadata": {
    "nbgrader": {
     "grade": false,
     "grade_id": "cell-30751ff6e5b72286",
     "locked": true,
     "schema_version": 2,
     "solution": false
    }
   },
   "source": [
    "Suppose we wanted to build a histogram of our data to understand the distribution of literacy rates and income per capita individually. The `countplot` can help create histograms from categorical data. Obtain the plots as shown below with the exact lables. "
   ]
  },
  {
   "cell_type": "code",
   "execution_count": 23,
   "metadata": {
    "nbgrader": {
     "grade": false,
     "grade_id": "cell-5e0c40ff7263e7df",
     "locked": true,
     "schema_version": 2,
     "solution": false
    }
   },
   "outputs": [
    {
     "ename": "SyntaxError",
     "evalue": "invalid syntax (<ipython-input-23-2dded7d01610>, line 8)",
     "output_type": "error",
     "traceback": [
      "\u001b[1;36m  File \u001b[1;32m\"<ipython-input-23-2dded7d01610>\"\u001b[1;36m, line \u001b[1;32m8\u001b[0m\n\u001b[1;33m    plt.subplot(1,2,2)|\u001b[0m\n\u001b[1;37m                       ^\u001b[0m\n\u001b[1;31mSyntaxError\u001b[0m\u001b[1;31m:\u001b[0m invalid syntax\n"
     ]
    }
   ],
   "source": [
    "## BEGIN SOLUTION\n",
    "\n",
    "plt.figure(figsize=(15,5))\n",
    "\n",
    "plt.subplot(1,2,1)\n",
    "axOne = sns.countplot(x=df['literacy'], data=df)\n",
    "\n",
    "plt.subplot(1,2,2)|\n",
    "axTwo = sns.countplot(x=df['income'], data=df)\n",
    "\n",
    "plt.show()\n",
    "\n",
    "## END SOLUTION"
   ]
  },
  {
   "cell_type": "markdown",
   "metadata": {
    "nbgrader": {
     "grade": false,
     "grade_id": "cell-f903d9acbd3014e1",
     "locked": true,
     "schema_version": 2,
     "solution": false
    }
   },
   "source": [
    "## Question 1.3\n",
    "In the cell below, concisely explain why `countplot` is NOT the right tool for the job."
   ]
  },
  {
   "cell_type": "code",
   "execution_count": null,
   "metadata": {
    "nbgrader": {
     "grade": false,
     "grade_id": "cell-684085ca870da641",
     "locked": false,
     "schema_version": 2,
     "solution": true
    }
   },
   "outputs": [],
   "source": [
    "### BEGIN SOLUTION\n",
    "answer = \"There is alot of indexs on the x axis that it would be impossible to list them all out\" +\n",
    "\"also these graphs do not provide any meaningful way to interpret the distribution\n",
    "### END SOLUTION"
   ]
  },
  {
   "cell_type": "markdown",
   "metadata": {
    "nbgrader": {
     "grade": false,
     "grade_id": "cell-a1e1d716f6257540",
     "locked": true,
     "schema_version": 2,
     "solution": false
    }
   },
   "source": [
    "## Question 1.4\n",
    "An alternate type of plot is the `barplot`, which as you'll obtain below, provides some vague idea of the distribution, but this is also not what we want."
   ]
  },
  {
   "cell_type": "code",
   "execution_count": null,
   "metadata": {
    "nbgrader": {
     "grade": false,
     "grade_id": "cell-25140278a5f2078d",
     "locked": true,
     "schema_version": 2,
     "solution": false
    }
   },
   "outputs": [],
   "source": [
    "## BEGIN SOLUTION\n",
    "\n",
    "#not looking right\n",
    "plt.figure(figsize=(20,70))\n",
    "\n",
    "plt.subplot(1,2,1)\n",
    "axOne = sns.barplot(x=df[\"literacy\"], y=df.index, data=df)\n",
    "plt.title(\"World Bank Female Adult Literacy Rate\")\n",
    "\n",
    "plt.subplot(1,2,2)\n",
    "axTwo = sns.barplot(x=df[\"income\"], data=df, y=df.index)\n",
    "plt.title(\"World Bank Gross National Income Per Capita\")\n",
    "\n",
    "plt.show()\n",
    "\n",
    "# END SOLUTION"
   ]
  },
  {
   "cell_type": "markdown",
   "metadata": {
    "nbgrader": {
     "grade": false,
     "grade_id": "q2a",
     "locked": true,
     "schema_version": 2,
     "solution": false
    }
   },
   "source": [
    "## Question 1.5\n",
    "\n",
    "In the cell below, create a plot of literacy rate and income per capita using the `distplot` function. As above, you should have two subplots, where the left subplot is literacy, and the right subplot is income. When you call `distplot`, set the `kde` parameter to false, e.g. `distplot(s, kde=False)`.\n",
    "\n",
    "Don't forget to title the plot and label axes!\n",
    "\n",
    "**Hint: ** *Copy and paste from above to start.*"
   ]
  },
  {
   "cell_type": "code",
   "execution_count": null,
   "metadata": {
    "nbgrader": {
     "grade": true,
     "grade_id": "q2a-answer",
     "locked": false,
     "points": 1,
     "schema_version": 2,
     "solution": true
    },
    "scrolled": true,
    "tags": [
     "student"
    ]
   },
   "outputs": [],
   "source": [
    "### BEGIN SOLUTION\n",
    "plt.figure(figsize=(15,5))\n",
    "\n",
    "plt.subplot(1,2,1)\n",
    "axOne = sns.distplot(df[\"literacy\"], kde=False)\n",
    "plt.title(\"World Bank Female Adult Literacy Rate\")\n",
    "plt.ylabel(\"Count\")\n",
    "\n",
    "plt.subplot(1,2,2)\n",
    "axTwo = sns.distplot(df[\"income\"], kde=False)\n",
    "plt.title(\"World Bank Gross National Income Per Capita\")\n",
    "plt.ylabel(\"Count\")\n",
    "\n",
    "plt.show()\n",
    "### END SOLUTION"
   ]
  },
  {
   "cell_type": "markdown",
   "metadata": {
    "nbgrader": {
     "grade": false,
     "grade_id": "cell-56f8e35b03f38694",
     "locked": true,
     "schema_version": 2,
     "solution": false
    }
   },
   "source": [
    "You should see histograms that show the counts of how many data points appear in each bin. `distplot` uses a heuristic called the Freedman-Diaconis rule (https://en.wikipedia.org/wiki/Freedman%E2%80%93Diaconis_rule) to automatically identify the best bin sizes, though it is possible to set the bins yourself (we won't).\n",
    "\n",
    "## Question 1.6\n",
    "In the cell below, try creating the exact same plot again(using seaborn (sns)), but this time set the `kde` parameter to False and the `rug` parameter to True. The kde is the kernel density estimator parameter."
   ]
  },
  {
   "cell_type": "code",
   "execution_count": null,
   "metadata": {
    "nbgrader": {
     "grade": true,
     "grade_id": "cell-72d2c195130debd8",
     "locked": false,
     "points": 1,
     "schema_version": 2,
     "solution": true
    }
   },
   "outputs": [],
   "source": [
    "### BEGIN SOLUTION\n",
    "\n",
    "plt.figure(figsize=(15,5))\n",
    "\n",
    "plt.subplot(1,2,1)\n",
    "axOne = sns.distplot(df[\"literacy\"], kde=False, rug=True)\n",
    "plt.title(\"World Bank Female Adult Literacy Rate\")\n",
    "plt.ylabel(\"Count\")\n",
    "\n",
    "plt.subplot(1,2,2)\n",
    "axTwo = sns.distplot(df[\"income\"], kde=False, rug=True)\n",
    "plt.title(\"World Bank Gross National Income Per Capita\")\n",
    "plt.ylabel(\"Count\")\n",
    "\n",
    "plt.show()\n",
    "\n",
    "### END SOLUTION"
   ]
  },
  {
   "cell_type": "markdown",
   "metadata": {
    "nbgrader": {
     "grade": false,
     "grade_id": "cell-782e4ce886bdd92b",
     "locked": true,
     "schema_version": 2,
     "solution": false
    }
   },
   "source": [
    "## Question 1.7\n",
    "Above, you should see little lines at the bottom of the plot showing the actual data points. In the cell below, let's do one last tweak and plot with the `kde` parameter set to True."
   ]
  },
  {
   "cell_type": "code",
   "execution_count": null,
   "metadata": {
    "nbgrader": {
     "grade": true,
     "grade_id": "cell-1aaac759f52a2269",
     "locked": false,
     "points": 1,
     "schema_version": 2,
     "solution": true
    }
   },
   "outputs": [],
   "source": [
    "### BEGIN SOLUTION\n",
    "\n",
    "plt.figure(figsize=(15,5))\n",
    "\n",
    "plt.subplot(1,2,1)\n",
    "axOne = sns.distplot(df[\"literacy\"], kde=True, rug=True)\n",
    "plt.title(\"World Bank Female Adult Literacy Rate\")\n",
    "plt.ylabel(\"Count\")\n",
    "\n",
    "plt.subplot(1,2,2)\n",
    "axTwo = sns.distplot(df[\"income\"], kde=True, rug=True)\n",
    "plt.title(\"World Bank Gross National Income Per Capita\")\n",
    "plt.ylabel(\"Count\")\n",
    "\n",
    "plt.show()\n",
    "\n",
    "### END SOLUTION"
   ]
  },
  {
   "cell_type": "markdown",
   "metadata": {
    "nbgrader": {
     "grade": false,
     "grade_id": "cell-d2ac0f8505508bb9",
     "locked": true,
     "schema_version": 2,
     "solution": false
    }
   },
   "source": [
    "You should see roughly the same histogram as before. However, now you should see an overlaid smooth line. This is the kernel density estimate discussed in class. \n",
    "\n",
    "Observations:\n",
    "* You'll also see that the y-axis value is no longer the count. Instead it is a value such tha the total area under the KDE curve is 1. The KDE estimates the underlying probability density function of the given variable. \n",
    "* The KDE is just an estimate, and we can see that it makes some silly decisions, e.g. assigning a non-zero probability of a greater than 100% literacy rate. \n",
    "\n",
    "We'll talk more about KDEs later in this lab."
   ]
  },
  {
   "cell_type": "markdown",
   "metadata": {
    "nbgrader": {
     "grade": false,
     "grade_id": "q2b",
     "locked": true,
     "schema_version": 2,
     "solution": false
    }
   },
   "source": [
    "## Question 1.8\n",
    "\n",
    "Looking at the income data, it is difficult to see the distribution among high income (> $30000) countries, and the KDE also has a funny artifact where the probability density function has little bumps just above zero that correspond to the wealthy outlying countries.\n",
    "\n",
    "We can logarithmically transform the `income` data to give us a visual representation that makes it easier to see patterns and also give a more reasonable KDE.\n",
    "\n",
    "In the cell below, make a distribution plot with the data transformed using `np.log10` with `kde=True`. Be sure to correct the axis label using `plt.xlabel`. If you want to see the exact counts, just set `kde=False`."
   ]
  },
  {
   "cell_type": "code",
   "execution_count": null,
   "metadata": {
    "nbgrader": {
     "grade": true,
     "grade_id": "q2c-answer",
     "locked": false,
     "points": 1,
     "schema_version": 2,
     "solution": true
    },
    "scrolled": false,
    "tags": [
     "student"
    ]
   },
   "outputs": [],
   "source": [
    "plt.figure(figsize=(15,5))\n",
    "dfTrans = df['income'].transform(np.log10)\n",
    "\n",
    "### BEGIN SOLUTION\n",
    "\n",
    "ax = sns.distplot(dfTrans, kde=True)\n",
    "plt.title(\"World Bank Gross National Income Per Capita\")\n",
    "plt.ylabel(\"Count\")\n",
    "\n",
    "### END SOLUTION\n"
   ]
  },
  {
   "cell_type": "markdown",
   "metadata": {
    "nbgrader": {
     "grade": false,
     "grade_id": "part2",
     "locked": true,
     "schema_version": 2,
     "solution": false
    }
   },
   "source": [
    "# Part 2: Kernel Density Estimation\n",
    "\n",
    "In this part of the lab you will develop a deeper understanding of how kernel destiny estimation works. This section assumes that you are familiar with the basic idea of the KDE."
   ]
  },
  {
   "cell_type": "markdown",
   "metadata": {
    "nbgrader": {
     "grade": false,
     "grade_id": "cell-edbcbd6d58848e8b",
     "locked": true,
     "schema_version": 2,
     "solution": false
    }
   },
   "source": [
    "Suppose we have 3 data points with values 2, 4, and 9. We can compute the (useless) histogram as shown below."
   ]
  },
  {
   "cell_type": "code",
   "execution_count": 36,
   "metadata": {
    "nbgrader": {
     "grade": false,
     "grade_id": "cell-64844f4047d4220a",
     "locked": true,
     "schema_version": 2,
     "solution": false
    }
   },
   "outputs": [
    {
     "name": "stderr",
     "output_type": "stream",
     "text": [
      "C:\\Users\\Vinh Huynh\\Anaconda3\\lib\\site-packages\\scipy\\stats\\stats.py:1713: FutureWarning: Using a non-tuple sequence for multidimensional indexing is deprecated; use `arr[tuple(seq)]` instead of `arr[seq]`. In the future this will be interpreted as an array index, `arr[np.array(seq)]`, which will result either in an error or a different result.\n",
      "  return np.add.reduce(sorted[indexer] * weights, axis=axis) / sumval\n"
     ]
    },
    {
     "data": {
      "image/png": "[encoded data removed]",
      "text/plain": [
       "<Figure size 432x288 with 1 Axes>"
      ]
     },
     "metadata": {
      "needs_background": "light"
     },
     "output_type": "display_data"
    }
   ],
   "source": [
    "data3pts = np.array([2, 4, 9])\n",
    "sns.distplot(data3pts, kde = False);"
   ]
  },
  {
   "cell_type": "markdown",
   "metadata": {
    "nbgrader": {
     "grade": false,
     "grade_id": "cell-67d04c3e29060dab",
     "locked": true,
     "schema_version": 2,
     "solution": false
    }
   },
   "source": [
    "By setting `kde=True`, we can see a kernel density estimate of the data."
   ]
  },
  {
   "cell_type": "code",
   "execution_count": null,
   "metadata": {
    "nbgrader": {
     "grade": false,
     "grade_id": "cell-720f7971a648ee3b",
     "locked": true,
     "schema_version": 2,
     "solution": false
    }
   },
   "outputs": [],
   "source": [
    "sns.distplot(data3pts, kde = True);"
   ]
  },
  {
   "cell_type": "markdown",
   "metadata": {
    "nbgrader": {
     "grade": false,
     "grade_id": "cell-827af143e350db11",
     "locked": true,
     "schema_version": 2,
     "solution": false
    }
   },
   "source": [
    "One question you might be wondering is how the kernel density estimator decides how \"wide\" each point should be. It turns out this is a parameter you can set called `bw`, which stands for bandwith. For example, the code below gives a bandwith value of 0.5 to each data point. You'll see the resulting kde is quite different. Try experimenting with different values of bandwidth and see what happens."
   ]
  },
  {
   "cell_type": "code",
   "execution_count": null,
   "metadata": {
    "nbgrader": {
     "grade": false,
     "grade_id": "cell-912a66ab5da037c2",
     "locked": true,
     "schema_version": 2,
     "solution": false
    },
    "scrolled": true
   },
   "outputs": [],
   "source": [
    "sns.distplot(data3pts, kde = True, kde_kws = {\"bw\": 0.5});"
   ]
  },
  {
   "cell_type": "markdown",
   "metadata": {
    "nbgrader": {
     "grade": false,
     "grade_id": "cell-4b452c13fc1463cd",
     "locked": true,
     "schema_version": 2,
     "solution": false
    }
   },
   "source": [
    "## Question 2.1"
   ]
  },
  {
   "cell_type": "markdown",
   "metadata": {
    "nbgrader": {
     "grade": false,
     "grade_id": "cell-532fe1463a834b05",
     "locked": true,
     "schema_version": 2,
     "solution": false
    }
   },
   "source": [
    "As mentioned in class, the kernel density estimate is just the sum of a bunch of copies of the kernel, each centered on our data points. For those of you familiar with the idea of \"convolution\", the KDE is simply the convolution of the kernel with the data. The default kernel used by the `distplot` function is the Guassian kernel, given by:\n",
    "\n",
    "$$\\Large\n",
    "K_\\alpha(x, z) = \\frac{1}{\\sqrt{2 \\pi \\alpha^2}} \\exp\\left(-\\frac{(x - z)^2}{2  \\alpha ^2} \\right)\n",
    "$$"
   ]
  },
  {
   "cell_type": "markdown",
   "metadata": {
    "nbgrader": {
     "grade": false,
     "grade_id": "cell-8cad663e76c2a0b5",
     "locked": true,
     "schema_version": 2,
     "solution": false
    }
   },
   "source": [
    "In Python code, this function is given as below, where `alpha` is the parameter $\\alpha$, `z` is the x coordinate of the center of the Gaussian (i.e. a data point), and `x` is the independent variable. The function header is given below. Complete the function body using the formula above. You might find function such as np.exp can be helpful."
   ]
  },
  {
   "cell_type": "code",
   "execution_count": 27,
   "metadata": {
    "nbgrader": {
     "grade": false,
     "grade_id": "cell-a3bcdaccb84140a2",
     "locked": true,
     "schema_version": 2,
     "solution": false
    }
   },
   "outputs": [],
   "source": [
    "## BEGIN SOLUTION\n",
    "\n",
    "def gaussian_kernel(alpha, x, z):\n",
    "    lhs = 1/(np.sqrt(2 * np.pi * np.square(alpha)))\n",
    "    rhs = np.exp(-1 * ((np.square(x-z))/(2 * np.square(alpha))))\n",
    "    return lhs * rhs\n",
    "\n",
    "## END SOLUTION"
   ]
  },
  {
   "cell_type": "markdown",
   "metadata": {
    "nbgrader": {
     "grade": false,
     "grade_id": "cell-55b4afb9f7caaaa5",
     "locked": true,
     "schema_version": 2,
     "solution": false
    }
   },
   "source": [
    "For example, we can plot the gaussian kernel centered on $x$ coordinate 9 with $\\alpha$ = 0.5 as below: "
   ]
  },
  {
   "cell_type": "code",
   "execution_count": null,
   "metadata": {
    "nbgrader": {
     "grade": false,
     "grade_id": "cell-2fcba8c1b7a5e471",
     "locked": true,
     "schema_version": 2,
     "solution": false
    },
    "scrolled": true
   },
   "outputs": [],
   "source": [
    "xs = np.linspace(-2, 12, 200)\n",
    "alpha=0.5\n",
    "kde_curve = [gaussian_kernel(alpha, x, 9) for x in xs]\n",
    "#kde_curve\n",
    "plt.plot(xs, kde_curve);"
   ]
  },
  {
   "cell_type": "markdown",
   "metadata": {
    "nbgrader": {
     "grade": false,
     "grade_id": "cell-44993358532f997e",
     "locked": true,
     "schema_version": 2,
     "solution": false
    }
   },
   "source": [
    "## Question 2.2\n",
    "In the cell below, plot the 3 kernel density functions corresponding to our 3 data points on the same axis. Use an `alpha` value of 0.5.\n",
    "\n",
    "**Hint: ** *The `gaussian_kernel` function can take a numpy array as an argument for `z`*."
   ]
  },
  {
   "cell_type": "code",
   "execution_count": null,
   "metadata": {
    "nbgrader": {
     "grade": true,
     "grade_id": "cell-fb3e2a6d258ddbf8",
     "locked": false,
     "points": 1,
     "schema_version": 2,
     "solution": true
    },
    "scrolled": true
   },
   "outputs": [],
   "source": [
    "### BEGIN SOLUTION\n",
    "\n",
    "xs = np.linspace(-2, 12, 200)\n",
    "alpha=0.5\n",
    "kde_curveOne = [gaussian_kernel(alpha, x, 9) for x in xs]\n",
    "kde_curveTwo = [gaussian_kernel(alpha, x, 1) for x in xs]\n",
    "kde_curveThree = [gaussian_kernel(alpha, x, 3) for x in xs]\n",
    "plt.plot(xs, kde_curveOne);\n",
    "plt.plot(xs, kde_curveTwo);\n",
    "plt.plot(xs, kde_curveThree);\n",
    "\n",
    "### END SOLUTION"
   ]
  },
  {
   "cell_type": "markdown",
   "metadata": {
    "nbgrader": {
     "grade": false,
     "grade_id": "gaussian-kernel",
     "locked": true,
     "schema_version": 2,
     "solution": false
    }
   },
   "source": [
    "## Question 2.3\n",
    "In the cell below, create a plot showing the sum of all three of the kernels above. Your plot should closely resemble the kde shown when you called `distplot` function with bandwidth 0.5 earlier.\n",
    "\n",
    "**Hint: ** *Consider using np.sum with the argument `axis = 1`.*\n",
    "\n",
    "**Hint: ** *Make sure to normalize your kernels!*"
   ]
  },
  {
   "cell_type": "code",
   "execution_count": 37,
   "metadata": {
    "nbgrader": {
     "grade": true,
     "grade_id": "cell-39b7921225a4bbda",
     "locked": false,
     "points": 1,
     "schema_version": 2,
     "solution": true
    },
    "scrolled": true
   },
   "outputs": [
    {
     "data": {
      "image/png": "[encoded data removed]",
      "text/plain": [
       "<Figure size 432x288 with 1 Axes>"
      ]
     },
     "metadata": {
      "needs_background": "light"
     },
     "output_type": "display_data"
    }
   ],
   "source": [
    "### BEGIN SOLUTION\n",
    "\n",
    "xs = np.linspace(-2, 12, 200)\n",
    "alpha=0.5\n",
    "kde_curveSum = np.sum(([gaussian_kernel(alpha, x, data3pts) for x in xs]), axis = 1)\n",
    "plt.plot(xs, kde_curveSum);\n",
    "\n",
    "### END SOLUTION"
   ]
  },
  {
   "cell_type": "markdown",
   "metadata": {
    "nbgrader": {
     "grade": false,
     "grade_id": "cell-6318ed263946e61e",
     "locked": true,
     "schema_version": 2,
     "solution": false
    }
   },
   "source": [
    "## Question 2.4"
   ]
  },
  {
   "cell_type": "markdown",
   "metadata": {
    "nbgrader": {
     "grade": false,
     "grade_id": "cell-75f0be696fffcb15",
     "locked": true,
     "schema_version": 2,
     "solution": false
    }
   },
   "source": [
    "Recall that earlier we plotted the kernel density estimation for the logarithm of the income data. Plot it again as shown below."
   ]
  },
  {
   "cell_type": "code",
   "execution_count": null,
   "metadata": {
    "nbgrader": {
     "grade": false,
     "grade_id": "cell-5dc1ca49bb365cb7",
     "locked": true,
     "schema_version": 2,
     "solution": false
    }
   },
   "outputs": [],
   "source": [
    "## BEGIN SOLUTION\n",
    "# Plot code below\n",
    "\n",
    "### BEGIN SOLUTION\n",
    "sns.distplot(np.log(df['income']), hist = False, kde = True)\n",
    "\n",
    "## END SOLUTION"
   ]
  },
  {
   "cell_type": "markdown",
   "metadata": {
    "nbgrader": {
     "grade": false,
     "grade_id": "cell-e2a9298ef9825f6c",
     "locked": true,
     "schema_version": 2,
     "solution": false
    }
   },
   "source": [
    "## Question 2.5\n",
    "In the cell below, make a similar plot using your technique from question 2a. Give an estimate of the $\\alpha$ value chosen by the `sns.distplot` function by tweaking your `alpha` value until your plot looks almost the same."
   ]
  },
  {
   "cell_type": "code",
   "execution_count": null,
   "metadata": {
    "nbgrader": {
     "grade": true,
     "grade_id": "cell-a1cbcf4340aacbdd",
     "locked": false,
     "points": 1,
     "schema_version": 2,
     "solution": true
    }
   },
   "outputs": [],
   "source": [
    "### BEGIN SOLUTION\n",
    "#kde_kws = {\"bw\": 0.5}\n",
    "sns.distplot(np.log(df['income']), kde = True, hist=False, kde_kws = {\"bw\": 0.5});\n",
    "#Alpha is correct at .5\n",
    "\n",
    "### END SOLUTION"
   ]
  },
  {
   "cell_type": "markdown",
   "metadata": {
    "nbgrader": {
     "grade": false,
     "grade_id": "cell-ceb8c82d83beab3f",
     "locked": true,
     "schema_version": 2,
     "solution": false
    }
   },
   "source": [
    "## Question 2.6"
   ]
  },
  {
   "cell_type": "markdown",
   "metadata": {
    "nbgrader": {
     "grade": false,
     "grade_id": "cell-82d4cf532a909280",
     "locked": true,
     "schema_version": 2,
     "solution": false
    }
   },
   "source": [
    "In your answers above, you hard coded a lot of your work. In this problem, you'll build a more general kernel density estimator function."
   ]
  },
  {
   "cell_type": "markdown",
   "metadata": {
    "nbgrader": {
     "grade": false,
     "grade_id": "q3a",
     "locked": true,
     "schema_version": 2,
     "solution": false
    }
   },
   "source": [
    "Implement the KDE function which computes:\n",
    "\n",
    "$$\\Large\n",
    "f_\\alpha(x) = \\frac{1}{n} \\sum_{i=1}^n K_\\alpha(x, z_i)\n",
    "$$\n",
    "\n",
    "Where $z_i$ are the data, $\\alpha$ is a parameter to control the smoothness, and $K_\\alpha$ is the kernel density function passed as `kernel`."
   ]
  },
  {
   "cell_type": "code",
   "execution_count": 28,
   "metadata": {
    "nbgrader": {
     "grade": false,
     "grade_id": "q3a-answer",
     "locked": false,
     "schema_version": 2,
     "solution": true
    },
    "tags": [
     "student"
    ]
   },
   "outputs": [],
   "source": [
    "def kde(kernel, alpha, x, data):\n",
    "    \"\"\"\n",
    "    Compute the kernel density estimate for the single query point x.\n",
    "\n",
    "    Args:\n",
    "        kernel: a kernel function with 3 parameters: alpha, x, data\n",
    "        alpha: the smoothing parameter to pass to the kernel\n",
    "        x: a single query point (in one dimension)\n",
    "        data: a numpy array of data points\n",
    "\n",
    "    Returns:\n",
    "        The smoothed estimate at the query point x\n",
    "    \"\"\"\n",
    "    ### BEGIN SOLUTION\n",
    "    total = 0\n",
    "    if kernel == gaussian_kernel:\n",
    "        for i in data:\n",
    "            total =  ((1/data.size) * gaussian_kernel(alpha, x, i)) + total\n",
    "        return total\n",
    "        \n",
    "    elif kernel == boxcar_kernel:\n",
    "        for i in data:\n",
    "            total =  ((1/data.size) * boxcar_kernel(alpha, x, i)) + total\n",
    "        return total\n",
    "    ### END SOLUTION"
   ]
  },
  {
   "cell_type": "markdown",
   "metadata": {
    "nbgrader": {
     "grade": false,
     "grade_id": "cell-237693c557348d15",
     "locked": true,
     "schema_version": 2,
     "solution": false
    }
   },
   "source": [
    "Assuming you implemented `kde` correctly, the code below should generate the `kde` of the log of the income data as before."
   ]
  },
  {
   "cell_type": "code",
   "execution_count": 38,
   "metadata": {
    "nbgrader": {
     "grade": false,
     "grade_id": "cell-cd8fe3ad58eaadda",
     "locked": true,
     "schema_version": 2,
     "solution": false
    }
   },
   "outputs": [
    {
     "name": "stderr",
     "output_type": "stream",
     "text": [
      "C:\\Users\\Vinh Huynh\\Anaconda3\\lib\\site-packages\\matplotlib\\axes\\_axes.py:6521: MatplotlibDeprecationWarning: \n",
      "The 'normed' kwarg was deprecated in Matplotlib 2.1 and will be removed in 3.1. Use 'density' instead.\n",
      "  alternative=\"'density'\", removal=\"3.1\")\n"
     ]
    },
    {
     "data": {
      "image/png": "[encoded data removed]",
      "text/plain": [
       "<Figure size 432x288 with 1 Axes>"
      ]
     },
     "metadata": {
      "needs_background": "light"
     },
     "output_type": "display_data"
    }
   ],
   "source": [
    "df['trans_inc'] = np.log10(df['income'])\n",
    "xs = np.linspace(df['trans_inc'].min(), df['trans_inc'].max(), 1000)\n",
    "curve = [kde(gaussian_kernel, alpha, x, df['trans_inc']) for x in xs]\n",
    "#curve\n",
    "plt.hist(df['trans_inc'], normed=True, color='orange')\n",
    "plt.title('World Bank Gross National Income Per Capita')\n",
    "plt.xlabel('Log Gross national income per capita, Atlas method: $: 2016');\n",
    "plt.plot(xs, curve, 'k-');"
   ]
  },
  {
   "cell_type": "markdown",
   "metadata": {
    "nbgrader": {
     "grade": false,
     "grade_id": "cell-e6e9e5afa3654ff7",
     "locked": true,
     "schema_version": 2,
     "solution": false
    }
   },
   "source": [
    "## Question 2.7\n",
    "And the code below should show a 3 x 3 set of plots showing the output of the kde for different `alpha` values."
   ]
  },
  {
   "cell_type": "code",
   "execution_count": null,
   "metadata": {
    "nbgrader": {
     "grade": false,
     "grade_id": "q3c-plots",
     "locked": true,
     "schema_version": 2,
     "solution": false
    },
    "tags": [
     "student"
    ]
   },
   "outputs": [],
   "source": [
    "\n",
    "\n",
    "plt.figure(figsize=(15,15))\n",
    "alphas = np.arange(0.2, 2.0, 0.2)\n",
    "for i, alpha in enumerate(alphas):\n",
    "    plt.subplot(3, 3, i+1)\n",
    "    xs = np.linspace(df['trans_inc'].min(), df['trans_inc'].max(), 1000)\n",
    "    curve = [kde(gaussian_kernel, alpha, x, df['trans_inc']) for x in xs]\n",
    "    plt.hist(df['trans_inc'], normed=True, color='orange')\n",
    "    plt.plot(xs, curve, 'k-')\n",
    "plt.show()\n",
    "\n"
   ]
  },
  {
   "cell_type": "markdown",
   "metadata": {
    "nbgrader": {
     "grade": false,
     "grade_id": "cell-aac6f1e8a7d66932",
     "locked": true,
     "schema_version": 2,
     "solution": false
    }
   },
   "source": [
    "Let's take a look at another kernel, the Boxcar kernel."
   ]
  },
  {
   "cell_type": "code",
   "execution_count": 29,
   "metadata": {
    "nbgrader": {
     "grade": false,
     "grade_id": "q3d-function",
     "locked": true,
     "schema_version": 2,
     "solution": false
    }
   },
   "outputs": [],
   "source": [
    "def boxcar_kernel(alpha, x, z):\n",
    "    return (((x-z)>=-alpha/2)&((x-z)<=alpha/2))/alpha"
   ]
  },
  {
   "cell_type": "markdown",
   "metadata": {
    "nbgrader": {
     "grade": false,
     "grade_id": "interact-instructions",
     "locked": true,
     "schema_version": 2,
     "solution": false
    }
   },
   "source": [
    "Run the cell below to enable interactive plots. It should give you a validating 'OK' when it's finished."
   ]
  },
  {
   "cell_type": "code",
   "execution_count": 31,
   "metadata": {
    "nbgrader": {
     "grade": false,
     "grade_id": "interact-code",
     "locked": true,
     "schema_version": 2,
     "solution": false
    }
   },
   "outputs": [
    {
     "name": "stderr",
     "output_type": "stream",
     "text": [
      "Enabling notebook extension jupyter-js-widgets/extension...\n",
      "      - Validating: ok\n"
     ]
    }
   ],
   "source": [
    "from ipywidgets import interact\n",
    "!jupyter nbextension enable --py widgetsnbextension"
   ]
  },
  {
   "cell_type": "markdown",
   "metadata": {
    "nbgrader": {
     "grade": false,
     "grade_id": "q3d-plot_instructions",
     "locked": true,
     "schema_version": 2,
     "solution": false
    }
   },
   "source": [
    "Now, we can plot the Boxcar and Gaussian kernel functions to see what they look like."
   ]
  },
  {
   "cell_type": "code",
   "execution_count": 32,
   "metadata": {
    "nbgrader": {
     "grade": false,
     "grade_id": "q3d-plot",
     "locked": true,
     "schema_version": 2,
     "solution": false
    }
   },
   "outputs": [
    {
     "data": {
      "application/vnd.jupyter.widget-view+json": {
       "model_id": "2376287d0a354de8b6c4403e3c3374a5",
       "version_major": 2,
       "version_minor": 0
      },
      "text/plain": [
       "interactive(children=(FloatSlider(value=5.0, description='alpha', max=10.0, min=1.0), Output()), _dom_classes=…"
      ]
     },
     "metadata": {},
     "output_type": "display_data"
    }
   ],
   "source": [
    "import numpy as np\n",
    "x = np.linspace(-10,10,1000)\n",
    "def f(alpha):\n",
    "    plt.plot(x, boxcar_kernel(alpha,x,0), label='Boxcar')\n",
    "    plt.plot(x, gaussian_kernel(alpha,x,0), label='Gaussian')\n",
    "    plt.legend(title='Kernel Function')\n",
    "    plt.show()\n",
    "interact(f, alpha=(1,10,0.1));"
   ]
  },
  {
   "cell_type": "markdown",
   "metadata": {
    "nbgrader": {
     "grade": false,
     "grade_id": "q3d-interactive",
     "locked": true,
     "schema_version": 2,
     "solution": false
    }
   },
   "source": [
    "Using the interactive plot below compare the the two kernel techniques:  (Generating the KDE plot is slow, so you may expect some latency after you move the slider)"
   ]
  },
  {
   "cell_type": "code",
   "execution_count": 39,
   "metadata": {
    "nbgrader": {
     "grade": false,
     "grade_id": "q3d-interactive_plot",
     "locked": true,
     "schema_version": 2,
     "solution": false
    }
   },
   "outputs": [
    {
     "data": {
      "application/vnd.jupyter.widget-view+json": {
       "model_id": "caf76597014e4729b490a7afc198da18",
       "version_major": 2,
       "version_minor": 0
      },
      "text/plain": [
       "interactive(children=(FloatSlider(value=0.25, description='alpha_g', max=0.5, min=0.01, step=0.01), FloatSlide…"
      ]
     },
     "metadata": {},
     "output_type": "display_data"
    }
   ],
   "source": [
    "xs = np.linspace(df['trans_inc'].min(), df['trans_inc'].max(), 1000)\n",
    "def f(alpha_g, alpha_b):\n",
    "    plt.hist(df['trans_inc'], normed=True, color='orange')\n",
    "    g_curve = [kde(gaussian_kernel, alpha_g, x, df['trans_inc']) for x in xs]\n",
    "    plt.plot(xs, g_curve, 'k-', label='Gaussian')\n",
    "    b_curve = [kde(boxcar_kernel, alpha_b, x, df['trans_inc']) for x in xs]\n",
    "    plt.plot(xs, b_curve, 'r-', label='Boxcar')\n",
    "    plt.legend(title='Kernel Function')\n",
    "    plt.show()\n",
    "interact(f, alpha_g=(0.01,.5,0.01), alpha_b=(0.01,3,0.1));"
   ]
  },
  {
   "cell_type": "markdown",
   "metadata": {
    "nbgrader": {
     "grade": false,
     "grade_id": "cell-9f2cd3a74f8dfc0c",
     "locked": true,
     "schema_version": 2,
     "solution": false
    }
   },
   "source": [
    "Briefly compare and contrast the Gaussian and Boxcar kernels in the cell below.\n",
    "\n",
    "With Gaussian Kernel function it looks as if all the points are being smoothed out to create a single uniform line. Compared to boxcar kernel which tries too smooth out all points, but leaves allot of the jaged points in tact to show slight spikes in data. "
   ]
  },
  {
   "cell_type": "markdown",
   "metadata": {},
   "source": [
    "<div class=\"alert alert-block alert-info\">\n",
    "<h2>Submission Instructions</h2> \n",
    "<b> File Name:</b> Please name the file as your_section_your_netID_Lab4.jpynb<br>\n",
    "<b> Submit To: </b> Canvas &rarr; Assignments &rarr; Lab4 <br>\n",
    "<b>Warning:</b> Failure to follow directions may result in loss points.<br>\n",
    "</div>"
   ]
  },
  {
   "cell_type": "markdown",
   "metadata": {
    "nbgrader": {
     "grade": false,
     "grade_id": "finish",
     "locked": true,
     "schema_version": 2,
     "solution": false
    }
   },
   "source": [
    "Thanks to Josh Hug, Berkeley Data Science Group and Steve Skiena for original ideas for this lab."
   ]
  }
 ],
 "metadata": {
  "_change_revision": 0,
  "_is_fork": false,
  "celltoolbar": "Create Assignment",
  "kernelspec": {
   "display_name": "Python 3",
   "language": "python",
   "name": "python3"
  },
  "language_info": {
   "codemirror_mode": {
    "name": "ipython",
    "version": 3
   },
   "file_extension": ".py",
   "mimetype": "text/x-python",
   "name": "python",
   "nbconvert_exporter": "python",
   "pygments_lexer": "ipython3",
   "version": "3.7.1"
  }
 },
 "nbformat": 4,
 "nbformat_minor": 1
}
